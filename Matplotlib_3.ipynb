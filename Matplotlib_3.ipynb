{
 "cells": [
  {
   "cell_type": "code",
   "execution_count": 1,
   "id": "f4eebd13-7102-4dcf-aea0-2ef511e8ce41",
   "metadata": {},
   "outputs": [],
   "source": [
    "import numpy as np\n",
    "import pandas as pd\n",
    "import matplotlib.pyplot as plt\n",
    "import seaborn as sns"
   ]
  },
  {
   "cell_type": "code",
   "execution_count": 2,
   "id": "004e1587-d671-4e9d-a9be-277c92c53940",
   "metadata": {},
   "outputs": [
    {
     "data": {
      "text/html": [
       "<div>\n",
       "<style scoped>\n",
       "    .dataframe tbody tr th:only-of-type {\n",
       "        vertical-align: middle;\n",
       "    }\n",
       "\n",
       "    .dataframe tbody tr th {\n",
       "        vertical-align: top;\n",
       "    }\n",
       "\n",
       "    .dataframe thead th {\n",
       "        text-align: right;\n",
       "    }\n",
       "</style>\n",
       "<table border=\"1\" class=\"dataframe\">\n",
       "  <thead>\n",
       "    <tr style=\"text-align: right;\">\n",
       "      <th></th>\n",
       "      <th>Rank</th>\n",
       "      <th>Name</th>\n",
       "      <th>Platform</th>\n",
       "      <th>Year</th>\n",
       "      <th>Genre</th>\n",
       "      <th>Publisher</th>\n",
       "      <th>NA_Sales</th>\n",
       "      <th>EU_Sales</th>\n",
       "      <th>JP_Sales</th>\n",
       "      <th>Other_Sales</th>\n",
       "      <th>Global_Sales</th>\n",
       "    </tr>\n",
       "  </thead>\n",
       "  <tbody>\n",
       "    <tr>\n",
       "      <th>0</th>\n",
       "      <td>2061</td>\n",
       "      <td>1942</td>\n",
       "      <td>NES</td>\n",
       "      <td>1985.0</td>\n",
       "      <td>Shooter</td>\n",
       "      <td>Capcom</td>\n",
       "      <td>4.569217</td>\n",
       "      <td>3.033887</td>\n",
       "      <td>3.439352</td>\n",
       "      <td>1.991671</td>\n",
       "      <td>12.802935</td>\n",
       "    </tr>\n",
       "    <tr>\n",
       "      <th>1</th>\n",
       "      <td>9137</td>\n",
       "      <td>¡Shin Chan Flipa en colores!</td>\n",
       "      <td>DS</td>\n",
       "      <td>2007.0</td>\n",
       "      <td>Platform</td>\n",
       "      <td>505 Games</td>\n",
       "      <td>2.076955</td>\n",
       "      <td>1.493442</td>\n",
       "      <td>3.033887</td>\n",
       "      <td>0.394830</td>\n",
       "      <td>7.034163</td>\n",
       "    </tr>\n",
       "    <tr>\n",
       "      <th>2</th>\n",
       "      <td>14279</td>\n",
       "      <td>.hack: Sekai no Mukou ni + Versus</td>\n",
       "      <td>PS3</td>\n",
       "      <td>2012.0</td>\n",
       "      <td>Action</td>\n",
       "      <td>Namco Bandai Games</td>\n",
       "      <td>1.145709</td>\n",
       "      <td>1.762339</td>\n",
       "      <td>1.493442</td>\n",
       "      <td>0.408693</td>\n",
       "      <td>4.982552</td>\n",
       "    </tr>\n",
       "    <tr>\n",
       "      <th>3</th>\n",
       "      <td>8359</td>\n",
       "      <td>.hack//G.U. Vol.1//Rebirth</td>\n",
       "      <td>PS2</td>\n",
       "      <td>2006.0</td>\n",
       "      <td>Role-Playing</td>\n",
       "      <td>Namco Bandai Games</td>\n",
       "      <td>2.031986</td>\n",
       "      <td>1.389856</td>\n",
       "      <td>3.228043</td>\n",
       "      <td>0.394830</td>\n",
       "      <td>7.226880</td>\n",
       "    </tr>\n",
       "    <tr>\n",
       "      <th>4</th>\n",
       "      <td>7109</td>\n",
       "      <td>.hack//G.U. Vol.2//Reminisce</td>\n",
       "      <td>PS2</td>\n",
       "      <td>2006.0</td>\n",
       "      <td>Role-Playing</td>\n",
       "      <td>Namco Bandai Games</td>\n",
       "      <td>2.792725</td>\n",
       "      <td>2.592054</td>\n",
       "      <td>1.440483</td>\n",
       "      <td>1.493442</td>\n",
       "      <td>8.363113</td>\n",
       "    </tr>\n",
       "  </tbody>\n",
       "</table>\n",
       "</div>"
      ],
      "text/plain": [
       "    Rank                               Name Platform    Year         Genre  \\\n",
       "0   2061                               1942      NES  1985.0       Shooter   \n",
       "1   9137       ¡Shin Chan Flipa en colores!       DS  2007.0      Platform   \n",
       "2  14279  .hack: Sekai no Mukou ni + Versus      PS3  2012.0        Action   \n",
       "3   8359         .hack//G.U. Vol.1//Rebirth      PS2  2006.0  Role-Playing   \n",
       "4   7109       .hack//G.U. Vol.2//Reminisce      PS2  2006.0  Role-Playing   \n",
       "\n",
       "            Publisher  NA_Sales  EU_Sales  JP_Sales  Other_Sales  Global_Sales  \n",
       "0              Capcom  4.569217  3.033887  3.439352     1.991671     12.802935  \n",
       "1           505 Games  2.076955  1.493442  3.033887     0.394830      7.034163  \n",
       "2  Namco Bandai Games  1.145709  1.762339  1.493442     0.408693      4.982552  \n",
       "3  Namco Bandai Games  2.031986  1.389856  3.228043     0.394830      7.226880  \n",
       "4  Namco Bandai Games  2.792725  2.592054  1.440483     1.493442      8.363113  "
      ]
     },
     "execution_count": 2,
     "metadata": {},
     "output_type": "execute_result"
    }
   ],
   "source": [
    "df_game=pd.read_csv(\"video game.csv\")\n",
    "df_game.head()"
   ]
  },
  {
   "cell_type": "code",
   "execution_count": 3,
   "id": "bf0b6544-621c-408c-87b3-0855c5785b40",
   "metadata": {},
   "outputs": [
    {
     "data": {
      "text/plain": [
       "Index(['DS', 'PS2', 'PS3'], dtype='object', name='Platform')"
      ]
     },
     "execution_count": 3,
     "metadata": {},
     "output_type": "execute_result"
    }
   ],
   "source": [
    "top_3_platforms=df_game['Platform'].value_counts().index[:3]\n",
    "top_3_platforms"
   ]
  },
  {
   "cell_type": "code",
   "execution_count": 4,
   "id": "d3780f16-7539-4eb1-a7da-b3b52d6fc388",
   "metadata": {},
   "outputs": [
    {
     "data": {
      "text/plain": [
       "Index(['Action', 'Sports', 'Misc'], dtype='object', name='Genre')"
      ]
     },
     "execution_count": 4,
     "metadata": {},
     "output_type": "execute_result"
    }
   ],
   "source": [
    "top_3_genres=df_game['Genre'].value_counts().index[:3]\n",
    "top_3_genres"
   ]
  },
  {
   "cell_type": "code",
   "execution_count": 5,
   "id": "444e7451-8681-4de5-9f42-4792041b508c",
   "metadata": {},
   "outputs": [
    {
     "data": {
      "text/plain": [
       "Index(['Electronic Arts', 'Activision', 'Namco Bandai Games'], dtype='object', name='Publisher')"
      ]
     },
     "execution_count": 5,
     "metadata": {},
     "output_type": "execute_result"
    }
   ],
   "source": [
    "top_3_publishers=df_game['Publisher'].value_counts().index[:3]\n",
    "top_3_publishers"
   ]
  },
  {
   "cell_type": "code",
   "execution_count": 8,
   "id": "e860a21b-3e66-41f7-a317-fa23f8478b66",
   "metadata": {},
   "outputs": [
    {
     "data": {
      "text/html": [
       "<div>\n",
       "<style scoped>\n",
       "    .dataframe tbody tr th:only-of-type {\n",
       "        vertical-align: middle;\n",
       "    }\n",
       "\n",
       "    .dataframe tbody tr th {\n",
       "        vertical-align: top;\n",
       "    }\n",
       "\n",
       "    .dataframe thead th {\n",
       "        text-align: right;\n",
       "    }\n",
       "</style>\n",
       "<table border=\"1\" class=\"dataframe\">\n",
       "  <thead>\n",
       "    <tr style=\"text-align: right;\">\n",
       "      <th></th>\n",
       "      <th>Rank</th>\n",
       "      <th>Name</th>\n",
       "      <th>Platform</th>\n",
       "      <th>Year</th>\n",
       "      <th>Genre</th>\n",
       "      <th>Publisher</th>\n",
       "      <th>NA_Sales</th>\n",
       "      <th>EU_Sales</th>\n",
       "      <th>JP_Sales</th>\n",
       "      <th>Other_Sales</th>\n",
       "      <th>Global_Sales</th>\n",
       "    </tr>\n",
       "  </thead>\n",
       "  <tbody>\n",
       "    <tr>\n",
       "      <th>2</th>\n",
       "      <td>14279</td>\n",
       "      <td>.hack: Sekai no Mukou ni + Versus</td>\n",
       "      <td>PS3</td>\n",
       "      <td>2012.0</td>\n",
       "      <td>Action</td>\n",
       "      <td>Namco Bandai Games</td>\n",
       "      <td>1.145709</td>\n",
       "      <td>1.762339</td>\n",
       "      <td>1.493442</td>\n",
       "      <td>0.408693</td>\n",
       "      <td>4.982552</td>\n",
       "    </tr>\n",
       "    <tr>\n",
       "      <th>13</th>\n",
       "      <td>2742</td>\n",
       "      <td>[Prototype 2]</td>\n",
       "      <td>PS3</td>\n",
       "      <td>2012.0</td>\n",
       "      <td>Action</td>\n",
       "      <td>Activision</td>\n",
       "      <td>3.978349</td>\n",
       "      <td>3.727034</td>\n",
       "      <td>0.848807</td>\n",
       "      <td>2.792725</td>\n",
       "      <td>11.447989</td>\n",
       "    </tr>\n",
       "    <tr>\n",
       "      <th>16</th>\n",
       "      <td>1604</td>\n",
       "      <td>[Prototype]</td>\n",
       "      <td>PS3</td>\n",
       "      <td>2009.0</td>\n",
       "      <td>Action</td>\n",
       "      <td>Activision</td>\n",
       "      <td>4.569217</td>\n",
       "      <td>4.108402</td>\n",
       "      <td>1.187272</td>\n",
       "      <td>3.339269</td>\n",
       "      <td>13.181205</td>\n",
       "    </tr>\n",
       "    <tr>\n",
       "      <th>19</th>\n",
       "      <td>1741</td>\n",
       "      <td>007: Quantum of Solace</td>\n",
       "      <td>PS3</td>\n",
       "      <td>2008.0</td>\n",
       "      <td>Action</td>\n",
       "      <td>Activision</td>\n",
       "      <td>4.156030</td>\n",
       "      <td>4.346074</td>\n",
       "      <td>1.087977</td>\n",
       "      <td>3.390562</td>\n",
       "      <td>12.980643</td>\n",
       "    </tr>\n",
       "    <tr>\n",
       "      <th>21</th>\n",
       "      <td>4501</td>\n",
       "      <td>007: Quantum of Solace</td>\n",
       "      <td>PS2</td>\n",
       "      <td>2008.0</td>\n",
       "      <td>Action</td>\n",
       "      <td>Activision</td>\n",
       "      <td>3.228043</td>\n",
       "      <td>2.738800</td>\n",
       "      <td>2.585598</td>\n",
       "      <td>3.652926</td>\n",
       "      <td>11.780257</td>\n",
       "    </tr>\n",
       "    <tr>\n",
       "      <th>...</th>\n",
       "      <td>...</td>\n",
       "      <td>...</td>\n",
       "      <td>...</td>\n",
       "      <td>...</td>\n",
       "      <td>...</td>\n",
       "      <td>...</td>\n",
       "      <td>...</td>\n",
       "      <td>...</td>\n",
       "      <td>...</td>\n",
       "      <td>...</td>\n",
       "      <td>...</td>\n",
       "    </tr>\n",
       "    <tr>\n",
       "      <th>16438</th>\n",
       "      <td>14938</td>\n",
       "      <td>Yes! Precure 5 Go Go Zenin Shu Go! Dream Festival</td>\n",
       "      <td>DS</td>\n",
       "      <td>2008.0</td>\n",
       "      <td>Action</td>\n",
       "      <td>Namco Bandai Games</td>\n",
       "      <td>1.087977</td>\n",
       "      <td>0.592445</td>\n",
       "      <td>1.087977</td>\n",
       "      <td>0.394830</td>\n",
       "      <td>3.509168</td>\n",
       "    </tr>\n",
       "    <tr>\n",
       "      <th>16479</th>\n",
       "      <td>10979</td>\n",
       "      <td>Young Justice: Legacy</td>\n",
       "      <td>PS3</td>\n",
       "      <td>2013.0</td>\n",
       "      <td>Action</td>\n",
       "      <td>Namco Bandai Games</td>\n",
       "      <td>2.186589</td>\n",
       "      <td>1.087977</td>\n",
       "      <td>3.409089</td>\n",
       "      <td>0.394830</td>\n",
       "      <td>7.359902</td>\n",
       "    </tr>\n",
       "    <tr>\n",
       "      <th>16601</th>\n",
       "      <td>11802</td>\n",
       "      <td>ZhuZhu Pets: Quest for Zhu</td>\n",
       "      <td>DS</td>\n",
       "      <td>2011.0</td>\n",
       "      <td>Misc</td>\n",
       "      <td>Activision</td>\n",
       "      <td>2.340740</td>\n",
       "      <td>1.525543</td>\n",
       "      <td>3.103825</td>\n",
       "      <td>0.394830</td>\n",
       "      <td>7.372592</td>\n",
       "    </tr>\n",
       "    <tr>\n",
       "      <th>16636</th>\n",
       "      <td>9196</td>\n",
       "      <td>Zoobles! Spring to Life!</td>\n",
       "      <td>DS</td>\n",
       "      <td>2011.0</td>\n",
       "      <td>Misc</td>\n",
       "      <td>Activision</td>\n",
       "      <td>2.697415</td>\n",
       "      <td>1.087977</td>\n",
       "      <td>2.760718</td>\n",
       "      <td>0.394830</td>\n",
       "      <td>6.915540</td>\n",
       "    </tr>\n",
       "    <tr>\n",
       "      <th>16640</th>\n",
       "      <td>9816</td>\n",
       "      <td>Zubo</td>\n",
       "      <td>DS</td>\n",
       "      <td>2008.0</td>\n",
       "      <td>Misc</td>\n",
       "      <td>Electronic Arts</td>\n",
       "      <td>2.592054</td>\n",
       "      <td>1.493442</td>\n",
       "      <td>1.493442</td>\n",
       "      <td>0.394830</td>\n",
       "      <td>5.969572</td>\n",
       "    </tr>\n",
       "  </tbody>\n",
       "</table>\n",
       "<p>617 rows × 11 columns</p>\n",
       "</div>"
      ],
      "text/plain": [
       "        Rank                                               Name Platform  \\\n",
       "2      14279                  .hack: Sekai no Mukou ni + Versus      PS3   \n",
       "13      2742                                      [Prototype 2]      PS3   \n",
       "16      1604                                        [Prototype]      PS3   \n",
       "19      1741                             007: Quantum of Solace      PS3   \n",
       "21      4501                             007: Quantum of Solace      PS2   \n",
       "...      ...                                                ...      ...   \n",
       "16438  14938  Yes! Precure 5 Go Go Zenin Shu Go! Dream Festival       DS   \n",
       "16479  10979                              Young Justice: Legacy      PS3   \n",
       "16601  11802                         ZhuZhu Pets: Quest for Zhu       DS   \n",
       "16636   9196                           Zoobles! Spring to Life!       DS   \n",
       "16640   9816                                               Zubo       DS   \n",
       "\n",
       "         Year   Genre           Publisher  NA_Sales  EU_Sales  JP_Sales  \\\n",
       "2      2012.0  Action  Namco Bandai Games  1.145709  1.762339  1.493442   \n",
       "13     2012.0  Action          Activision  3.978349  3.727034  0.848807   \n",
       "16     2009.0  Action          Activision  4.569217  4.108402  1.187272   \n",
       "19     2008.0  Action          Activision  4.156030  4.346074  1.087977   \n",
       "21     2008.0  Action          Activision  3.228043  2.738800  2.585598   \n",
       "...       ...     ...                 ...       ...       ...       ...   \n",
       "16438  2008.0  Action  Namco Bandai Games  1.087977  0.592445  1.087977   \n",
       "16479  2013.0  Action  Namco Bandai Games  2.186589  1.087977  3.409089   \n",
       "16601  2011.0    Misc          Activision  2.340740  1.525543  3.103825   \n",
       "16636  2011.0    Misc          Activision  2.697415  1.087977  2.760718   \n",
       "16640  2008.0    Misc     Electronic Arts  2.592054  1.493442  1.493442   \n",
       "\n",
       "       Other_Sales  Global_Sales  \n",
       "2         0.408693      4.982552  \n",
       "13        2.792725     11.447989  \n",
       "16        3.339269     13.181205  \n",
       "19        3.390562     12.980643  \n",
       "21        3.652926     11.780257  \n",
       "...            ...           ...  \n",
       "16438     0.394830      3.509168  \n",
       "16479     0.394830      7.359902  \n",
       "16601     0.394830      7.372592  \n",
       "16636     0.394830      6.915540  \n",
       "16640     0.394830      5.969572  \n",
       "\n",
       "[617 rows x 11 columns]"
      ]
     },
     "execution_count": 8,
     "metadata": {},
     "output_type": "execute_result"
    }
   ],
   "source": [
    "df_new = df_game.loc[df_game['Platform'].isin(top_3_platforms)\n",
    "                  & df_game['Genre'].isin(top_3_genres)\n",
    "                  & df_game['Publisher'].isin(top_3_publishers)]\n",
    "\n",
    "df_new"
   ]
  },
  {
   "cell_type": "code",
   "execution_count": 9,
   "id": "09cc33a2-d3cd-47a4-a70d-818e300e2952",
   "metadata": {},
   "outputs": [
    {
     "data": {
      "text/html": [
       "<div>\n",
       "<style scoped>\n",
       "    .dataframe tbody tr th:only-of-type {\n",
       "        vertical-align: middle;\n",
       "    }\n",
       "\n",
       "    .dataframe tbody tr th {\n",
       "        vertical-align: top;\n",
       "    }\n",
       "\n",
       "    .dataframe thead th {\n",
       "        text-align: right;\n",
       "    }\n",
       "</style>\n",
       "<table border=\"1\" class=\"dataframe\">\n",
       "  <thead>\n",
       "    <tr style=\"text-align: right;\">\n",
       "      <th></th>\n",
       "      <th>Rank</th>\n",
       "      <th>Name</th>\n",
       "      <th>Platform</th>\n",
       "      <th>Year</th>\n",
       "      <th>Genre</th>\n",
       "      <th>Publisher</th>\n",
       "      <th>NA_Sales</th>\n",
       "      <th>EU_Sales</th>\n",
       "      <th>JP_Sales</th>\n",
       "      <th>Other_Sales</th>\n",
       "      <th>Global_Sales</th>\n",
       "    </tr>\n",
       "  </thead>\n",
       "  <tbody>\n",
       "    <tr>\n",
       "      <th>2</th>\n",
       "      <td>14279</td>\n",
       "      <td>.hack: Sekai no Mukou ni + Versus</td>\n",
       "      <td>PS3</td>\n",
       "      <td>2012.0</td>\n",
       "      <td>Action</td>\n",
       "      <td>Namco Bandai Games</td>\n",
       "      <td>1.145709</td>\n",
       "      <td>1.762339</td>\n",
       "      <td>1.493442</td>\n",
       "      <td>0.408693</td>\n",
       "      <td>4.982552</td>\n",
       "    </tr>\n",
       "    <tr>\n",
       "      <th>13</th>\n",
       "      <td>2742</td>\n",
       "      <td>[Prototype 2]</td>\n",
       "      <td>PS3</td>\n",
       "      <td>2012.0</td>\n",
       "      <td>Action</td>\n",
       "      <td>Activision</td>\n",
       "      <td>3.978349</td>\n",
       "      <td>3.727034</td>\n",
       "      <td>0.848807</td>\n",
       "      <td>2.792725</td>\n",
       "      <td>11.447989</td>\n",
       "    </tr>\n",
       "    <tr>\n",
       "      <th>16</th>\n",
       "      <td>1604</td>\n",
       "      <td>[Prototype]</td>\n",
       "      <td>PS3</td>\n",
       "      <td>2009.0</td>\n",
       "      <td>Action</td>\n",
       "      <td>Activision</td>\n",
       "      <td>4.569217</td>\n",
       "      <td>4.108402</td>\n",
       "      <td>1.187272</td>\n",
       "      <td>3.339269</td>\n",
       "      <td>13.181205</td>\n",
       "    </tr>\n",
       "    <tr>\n",
       "      <th>19</th>\n",
       "      <td>1741</td>\n",
       "      <td>007: Quantum of Solace</td>\n",
       "      <td>PS3</td>\n",
       "      <td>2008.0</td>\n",
       "      <td>Action</td>\n",
       "      <td>Activision</td>\n",
       "      <td>4.156030</td>\n",
       "      <td>4.346074</td>\n",
       "      <td>1.087977</td>\n",
       "      <td>3.390562</td>\n",
       "      <td>12.980643</td>\n",
       "    </tr>\n",
       "    <tr>\n",
       "      <th>21</th>\n",
       "      <td>4501</td>\n",
       "      <td>007: Quantum of Solace</td>\n",
       "      <td>PS2</td>\n",
       "      <td>2008.0</td>\n",
       "      <td>Action</td>\n",
       "      <td>Activision</td>\n",
       "      <td>3.228043</td>\n",
       "      <td>2.738800</td>\n",
       "      <td>2.585598</td>\n",
       "      <td>3.652926</td>\n",
       "      <td>11.780257</td>\n",
       "    </tr>\n",
       "  </tbody>\n",
       "</table>\n",
       "</div>"
      ],
      "text/plain": [
       "     Rank                               Name Platform    Year   Genre  \\\n",
       "2   14279  .hack: Sekai no Mukou ni + Versus      PS3  2012.0  Action   \n",
       "13   2742                      [Prototype 2]      PS3  2012.0  Action   \n",
       "16   1604                        [Prototype]      PS3  2009.0  Action   \n",
       "19   1741             007: Quantum of Solace      PS3  2008.0  Action   \n",
       "21   4501             007: Quantum of Solace      PS2  2008.0  Action   \n",
       "\n",
       "             Publisher  NA_Sales  EU_Sales  JP_Sales  Other_Sales  \\\n",
       "2   Namco Bandai Games  1.145709  1.762339  1.493442     0.408693   \n",
       "13          Activision  3.978349  3.727034  0.848807     2.792725   \n",
       "16          Activision  4.569217  4.108402  1.187272     3.339269   \n",
       "19          Activision  4.156030  4.346074  1.087977     3.390562   \n",
       "21          Activision  3.228043  2.738800  2.585598     3.652926   \n",
       "\n",
       "    Global_Sales  \n",
       "2       4.982552  \n",
       "13     11.447989  \n",
       "16     13.181205  \n",
       "19     12.980643  \n",
       "21     11.780257  "
      ]
     },
     "execution_count": 9,
     "metadata": {},
     "output_type": "execute_result"
    }
   ],
   "source": [
    "df_new.head()"
   ]
  },
  {
   "cell_type": "code",
   "execution_count": 11,
   "id": "9ddf360d-44cb-4257-80d0-a8b18620285c",
   "metadata": {},
   "outputs": [
    {
     "data": {
      "text/plain": [
       "(617, 11)"
      ]
     },
     "execution_count": 11,
     "metadata": {},
     "output_type": "execute_result"
    }
   ],
   "source": [
    "df_new.shape"
   ]
  },
  {
   "cell_type": "markdown",
   "id": "5ca2016b-aa6f-451f-9a71-aed0c2c9fe10",
   "metadata": {},
   "source": [
    "<h1> Boxplot</h1>\n",
    "\n",
    "It is used to visualize the distribution and \n",
    "central tendency of a dataset highlighting important statistics such as the median, quartiles, and possible outliers."
   ]
  },
  {
   "cell_type": "markdown",
   "id": "550b52fc-8a42-422c-af64-ae08a75c0ed2",
   "metadata": {},
   "source": [
    "## Key Components of a box plot \n",
    "\n",
    "1. Median\n",
    "2. Quartiles\n",
    "3. Whiskers\n",
    "4. Outliers"
   ]
  },
  {
   "cell_type": "code",
   "execution_count": 14,
   "id": "3cfd1f51-cbb3-4a0b-a291-b180c43951b9",
   "metadata": {},
   "outputs": [
    {
     "data": {
      "image/png": "[encoded data removed]",
      "text/plain": [
       "<Figure size 640x480 with 1 Axes>"
      ]
     },
     "metadata": {},
     "output_type": "display_data"
    }
   ],
   "source": [
    "temp = [5,3,6,10,32,16,34,-4,8,3,4,6,2,8,9,1,2,0,3,4,5,-12,-5]\n",
    "sns.boxplot(x=temp)\n",
    "plt.show()"
   ]
  },
  {
   "cell_type": "code",
   "execution_count": 15,
   "id": "6d5d596d-a42e-43d0-a371-bf8340ec87ed",
   "metadata": {},
   "outputs": [
    {
     "data": {
      "image/png": "[encoded data removed]",
      "text/plain": [
       "<Figure size 640x480 with 1 Axes>"
      ]
     },
     "metadata": {},
     "output_type": "display_data"
    }
   ],
   "source": [
    "sns.boxplot(x='NA_Sales',data=df_game,color='pink')\n",
    "plt.show()"
   ]
  },
  {
   "cell_type": "code",
   "execution_count": 17,
   "id": "afa4b664-1b53-41f5-9dfc-885dbd9e33fa",
   "metadata": {},
   "outputs": [
    {
     "data": {
      "image/png": "[encoded data removed]",
      "text/plain": [
       "<Figure size 640x480 with 1 Axes>"
      ]
     },
     "metadata": {},
     "output_type": "display_data"
    }
   ],
   "source": [
    "sns.boxplot(y='NA_Sales',data=df_game,color='orange')\n",
    "plt.show()"
   ]
  },
  {
   "cell_type": "code",
   "execution_count": 18,
   "id": "77991b1e-592b-41d4-8530-652214b45209",
   "metadata": {},
   "outputs": [
    {
     "data": {
      "image/png": "[encoded data removed]",
      "text/plain": [
       "<Figure size 640x480 with 1 Axes>"
      ]
     },
     "metadata": {},
     "output_type": "display_data"
    }
   ],
   "source": [
    "# Ques. Check the distribution of Global Sales by the top three Platforms.\n",
    "\n",
    "sns.boxplot(x=df_new['Platform'],y=df_new['Global_Sales'],color='brown')\n",
    "plt.title(\"Global Sales  of Top 3 Platform\")\n",
    "plt.show()"
   ]
  },
  {
   "cell_type": "code",
   "execution_count": 19,
   "id": "1b74bcb9-dcc4-454b-8569-ebd437a220e8",
   "metadata": {},
   "outputs": [
    {
     "data": {
      "image/png": "[encoded data removed]",
      "text/plain": [
       "<Figure size 640x480 with 1 Axes>"
      ]
     },
     "metadata": {},
     "output_type": "display_data"
    }
   ],
   "source": [
    "# Ques. Check the distribution of Global Sales by the top three Publishers.\n",
    "sns.boxplot(x=df_new[\"Publisher\"],y=df_new[\"Global_Sales\"],color='pink')\n",
    "plt.title(\"Global Sales of Top 3 Publisher\")\n",
    "plt.show()"
   ]
  },
  {
   "cell_type": "markdown",
   "id": "c98848c4-4da2-4854-b96a-fe0a5a8bbdaa",
   "metadata": {},
   "source": [
    "What can we infer from the above plots?\n",
    "\n",
    "## Platforms\n",
    "\n",
    "1.Platforms PS2 and PS3 have higher sales.\n",
    "    \n",
    "2.No outliers seen\n",
    "\n",
    "## Publisher\n",
    "\n",
    "\n",
    "1.The overall sales of Electronic Arts is higher.\n",
    "\n",
    "2.Activision doesn't have many outliers."
   ]
  },
  {
   "cell_type": "markdown",
   "id": "0e861287-b26b-4bee-9985-8d2a421f8a64",
   "metadata": {},
   "source": [
    "## How to visualize which genres bring higher average global sales? - Bar Chart using Error Bars"
   ]
  },
  {
   "cell_type": "code",
   "execution_count": 20,
   "id": "38ecc206-0460-4419-892d-cbbe18e68c5f",
   "metadata": {},
   "outputs": [
    {
     "data": {
      "image/png": "[encoded data removed]",
      "text/plain": [
       "<Figure size 640x480 with 1 Axes>"
      ]
     },
     "metadata": {},
     "output_type": "display_data"
    }
   ],
   "source": [
    "sns.barplot(x='Genre' , y='Global_Sales' , data=df_new , estimator = np.mean)\n",
    "plt.show()"
   ]
  },
  {
   "cell_type": "markdown",
   "id": "7cb6db03-7452-4fe2-8826-6a2052b7702c",
   "metadata": {},
   "source": [
    "The black lines on top of each bar are error bars, representing the uncertainty or variability in the data around the mean\n",
    "\n",
    "What can we infer from this plot?\n",
    "1. We had earlier seen that Electronic Arts had a larger market share of sales.\n",
    "2. Majority of games Electronic Arts made was sports.\n",
    "3. This ultimately proves the fact that Sports has a high market share in the industry, as shown in the bar chart."
   ]
  },
  {
   "cell_type": "markdown",
   "id": "278691a4-a458-4936-b5fc-2371a5dbfc7a",
   "metadata": {},
   "source": [
    "<h1> Subplots</h1>"
   ]
  },
  {
   "cell_type": "code",
   "execution_count": 22,
   "id": "2a8f3f34-0615-4e9e-bca7-efe93d9e2c2a",
   "metadata": {},
   "outputs": [
    {
     "data": {
      "image/png": "[encoded data removed]",
      "text/plain": [
       "<Figure size 640x480 with 1 Axes>"
      ]
     },
     "metadata": {},
     "output_type": "display_data"
    }
   ],
   "source": [
    "# if we try to built two plots on same chart -\n",
    "sns.barplot(x='Genre', y='Global_Sales', data=df_new)\n",
    "sns.boxplot(x='Genre', y='Global_Sales', data=df_new)\n",
    "plt.show()"
   ]
  },
  {
   "cell_type": "code",
   "execution_count": null,
   "id": "0682473f-55cd-4186-a23f-8ea4e3979c06",
   "metadata": {},
   "outputs": [],
   "source": []
  }
 ],
 "metadata": {
  "kernelspec": {
   "display_name": "Python 3 (ipykernel)",
   "language": "python",
   "name": "python3"
  },
  "language_info": {
   "codemirror_mode": {
    "name": "ipython",
    "version": 3
   },
   "file_extension": ".py",
   "mimetype": "text/x-python",
   "name": "python",
   "nbconvert_exporter": "python",
   "pygments_lexer": "ipython3",
   "version": "3.11.5"
  }
 },
 "nbformat": 4,
 "nbformat_minor": 5
}
